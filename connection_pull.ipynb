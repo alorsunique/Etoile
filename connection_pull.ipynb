{
 "cells": [
  {
   "cell_type": "markdown",
   "metadata": {},
   "source": [
    "# Creation of Constellation Connections\n",
    "\n",
    "This notebook is intended to generate the lines that connect the stars within a singular constellation."
   ]
  },
  {
   "cell_type": "markdown",
   "metadata": {},
   "source": [
    "## Importing the necessary packages"
   ]
  },
  {
   "cell_type": "code",
   "execution_count": 30,
   "metadata": {},
   "outputs": [],
   "source": [
    "import pandas as pd\n",
    "import numpy as np\n",
    "import os\n",
    "from pathlib import Path\n",
    "import ast"
   ]
  },
  {
   "cell_type": "markdown",
   "metadata": {},
   "source": [
    "## Setting up the important directories\n",
    "\n",
    "After running the cell below, two folders should be created. `Data Input` is where input data will be placed. Inside `Data Processed` will be two new folders that will keep the processed information."
   ]
  },
  {
   "cell_type": "code",
   "execution_count": 31,
   "metadata": {},
   "outputs": [],
   "source": [
    "working_dir = Path.cwd()\n",
    "\n",
    "data_input_dir = working_dir / \"Data Input\"\n",
    "data_process_dir = working_dir / \"Data Processed\"\n",
    "\n",
    "hyg_constellation_dir = data_process_dir / \"HYG Constellation\"\n",
    "constellation_connection_dir = data_process_dir / \"Constellation Connection\"\n",
    "\n",
    "if not hyg_constellation_dir.exists():\n",
    "    os.mkdir(hyg_constellation_dir)\n",
    "if not constellation_connection_dir.exists():\n",
    "    os.mkdir(constellation_connection_dir)"
   ]
  },
  {
   "cell_type": "markdown",
   "metadata": {},
   "source": [
    "## Extracting information\n",
    "\n",
    "The following cells will detail how the information about the stars were processed in this notebook"
   ]
  },
  {
   "cell_type": "markdown",
   "metadata": {},
   "source": [
    "### constellation.fab\n",
    "---\n",
    "Place the `constellation.fab` file in the `Data Input` folder.\n",
    "\n",
    "The `constellation.fab` file contains information about stars associated with specific constellations. This file was obtained from `eleanorlutz`'s GitHub [repository](https://github.com/eleanorlutz/western_constellations_atlas_of_space). Although the repository attributes the file to the open-source planetarium software *Stellarium*, it is no longer available in their repository. So I opted to use `eleanorlutz`'s copy of the file.\n",
    "\n",
    "The relevant data in the file pertains to connection pairs, represented as a entry of numerical sequences indicating the stars to be connected. An illustrative example is the sequence:\n",
    "\n",
    "$$1\\;2\\;2\\;3\\;3\\;4\\;4\\;1$$\n",
    "\n",
    "To interpret the connections, the elements are paired, resulting in four pairs in this example. In each pair, the first element designates the starting star, and the second element designates the ending star. In the provided example, the connected stars will form a closed loop. It is important to note that the series should comprise an even number of elements, as each star must be paired with another.\n",
    "\n",
    "Upon data processing, it was observed that the **CMa** constellation's entry contains an odd number of elements. Checking the entry revealed that star **34045** was paired with itself, shown in the first two entries in the result of the next cell. To address this issue, I chose to omit the first entry in the sequence."
   ]
  },
  {
   "cell_type": "code",
   "execution_count": 32,
   "metadata": {},
   "outputs": [
    {
     "name": "stdout",
     "output_type": "stream",
     "text": [
      "CMa | 33\n",
      "['34045', '34045', '33347', '33347', '32349', '32349', '33977', '33977', '34444', '34444', '35037', '35037', '35904', '33579', '33856', '33856', '34444', '33856', '33165', '33165', '31592', '31592', '31416', '31592', '30324', '31592', '32349', '33579', '32759', '30122', '33579', '33347', '33160']\n",
      "['34045', '33347', '33347', '32349', '32349', '33977', '33977', '34444', '34444', '35037', '35037', '35904', '33579', '33856', '33856', '34444', '33856', '33165', '33165', '31592', '31592', '31416', '31592', '30324', '31592', '32349', '33579', '32759', '30122', '33579', '33347', '33160']\n"
     ]
    }
   ],
   "source": [
    "rows = []\n",
    "with open(str(data_input_dir / \"constellationship.fab\"), \"r\") as fabfile:\n",
    "    rows = fabfile.readlines()\n",
    "\n",
    "entry_list = []\n",
    "\n",
    "for row in rows:\n",
    "    row = row.replace(\"\\n\", \"\")\n",
    "    row_split = row.split(\" \")\n",
    "\n",
    "    name = row_split[0]\n",
    "    star_numbers = row_split[3:]\n",
    "\n",
    "    if len(star_numbers) % 2 != 0:\n",
    "\n",
    "        print(f\"{name} | {len(star_numbers)}\")\n",
    "        print(star_numbers)\n",
    "        star_numbers = star_numbers[1:]\n",
    "        print(star_numbers)\n",
    "\n",
    "    entry = {\"Constellation\": name, \"Star Numbers\": str(star_numbers)}\n",
    "    entry_list.append(entry)"
   ]
  },
  {
   "cell_type": "markdown",
   "metadata": {},
   "source": [
    "## Creating a dataframe containing all the star pairs\n",
    "---\n",
    "In the next cell, a dataframe was created containing the pairs of stars that form the links in a constellation. This is then saved to a `csv` file to be used in the later cells. While not necessary, I opten to save it just in case it will be used for other purposes."
   ]
  },
  {
   "cell_type": "code",
   "execution_count": 33,
   "metadata": {},
   "outputs": [],
   "source": [
    "columns = [\"Constellation\", \"Star Numbers\"]\n",
    "star_frame = pd.DataFrame(columns=columns)\n",
    "\n",
    "for entry in entry_list:\n",
    "\n",
    "    star_frame = pd.concat([star_frame, pd.DataFrame(\n",
    "        [entry], columns=columns)], ignore_index=True)\n",
    "\n",
    "star_frame = star_frame.sort_values(by=[\"Constellation\"])\n",
    "\n",
    "output_path = data_process_dir / f\"Constellation_Star_List.csv\"\n",
    "star_frame.to_csv(str(output_path), index=False)"
   ]
  },
  {
   "cell_type": "markdown",
   "metadata": {},
   "source": [
    "### Preparing the HYG dataset\n",
    "---\n",
    "Place the `hygdata_v3.csv` file in the `Data Input` folder.\n",
    "\n",
    "I chose to utilize the dataset employed by `eleanorlutz`. This decision was made due to the star numbers referenced in the `constellation.fab` file originating from the HYG database. In the subsequent cell, a dataframe will be generated using the `hygdata_v3.csv` file."
   ]
  },
  {
   "cell_type": "code",
   "execution_count": 34,
   "metadata": {},
   "outputs": [],
   "source": [
    "hyg_frame = pd.read_csv(str(data_input_dir / \"hygdata_v3.csv\"))"
   ]
  },
  {
   "cell_type": "markdown",
   "metadata": {},
   "source": [
    "The dataframe delineating the stars situated within a specific constellation is still here in the notebook,. However, I have chosen to preserve processed data as stated in the previous cell for potential utilization in alternative contexts in the future. Thus, I shall import the CSV file containing the important star numbers corresponding to a constellation in the subsequent cell."
   ]
  },
  {
   "cell_type": "code",
   "execution_count": 35,
   "metadata": {},
   "outputs": [],
   "source": [
    "star_frame = pd.read_csv(str(data_process_dir / \"Constellation_Star_List.csv\"))"
   ]
  },
  {
   "cell_type": "markdown",
   "metadata": {},
   "source": [
    "## Extracting the relevant stars\n",
    "---\n",
    "Not all stars from the HYG database will be employed, as not all stars are integral to the established connections. Nevertheless, each star is designated to a constellation, following the International Astronomical Union's (IAU) division of the sky into 88 regions, each aligned with a recognized constellation. Thus a star located within a specific region is attributed to the constellation associated with that region.\n",
    "\n",
    "The selection of stars for use will is taken from the star number information contained in the `Constellation_Star_List.csv` file."
   ]
  },
  {
   "cell_type": "code",
   "execution_count": 36,
   "metadata": {},
   "outputs": [],
   "source": [
    "for index, row in star_frame.iterrows():\n",
    "    constellation_name = row[\"Constellation\"]\n",
    "\n",
    "    constellation_star_list = ast.literal_eval(row[\"Star Numbers\"])\n",
    "    constellation_frame = pd.DataFrame()\n",
    "\n",
    "    entry_list = []\n",
    "\n",
    "    for star_number in constellation_star_list:\n",
    "        extract_row = hyg_frame[hyg_frame['hip'] == int(star_number)]\n",
    "\n",
    "        constellation_frame = pd.concat(\n",
    "            [constellation_frame] + [extract_row], ignore_index=True)\n",
    "\n",
    "    output_path = hyg_constellation_dir / f\"{constellation_name}.csv\"\n",
    "    constellation_frame.to_csv(str(output_path), index=False)"
   ]
  },
  {
   "cell_type": "markdown",
   "metadata": {},
   "source": [
    "### Extracting the Right Ascension(RA) and Declination(Dec)\n",
    "---\n",
    "On the surface of earth, we can specify a point by its latitude and longitude. The same goes for objects in the celestial sphere, with each of them getting assigned right ascension and declination values corresponding to where they are located in the sky.\n",
    "\n",
    "With the relevant stars extracted, working on the connections is now possible. The important part is extracting the right ascension and declination values of each star.\n",
    "\n",
    "But before that, a couple of functions will be defined in the next cell.\n",
    "\n",
    "### Functions\n",
    "---\n",
    "The `norm` function normalizes a vector.\n",
    "\n",
    "The `xyz_to_radec` converts a point on a unit sphere to right ascension and declination.\n",
    "\n",
    "The `compute_connect` connects two points on the unit sphere through a geodesic."
   ]
  },
  {
   "cell_type": "code",
   "execution_count": 37,
   "metadata": {},
   "outputs": [],
   "source": [
    "def norm(x, y, z):\n",
    "    magnitude = np.sqrt(x**2 + y**2 + z**2)\n",
    "    x_new = x/magnitude\n",
    "    y_new = y/magnitude\n",
    "    z_new = z/magnitude\n",
    "    return x_new, y_new, z_new\n",
    "\n",
    "\n",
    "def xyz_to_radec(x, y, z):\n",
    "    ra = np.arctan2(y, x)\n",
    "    dec = np.arcsin(z)\n",
    "    return ra, dec\n",
    "\n",
    "\n",
    "def compute_connect(x1, y1, z1, x2, y2, z2):\n",
    "\n",
    "    interval = 96\n",
    "    buffer = 2\n",
    "    half_buffer = int(buffer/2)\n",
    "\n",
    "    x_diff = np.linspace(x1, x2, interval+buffer+1)\n",
    "    y_diff = np.linspace(y1, y2, interval+buffer+1)\n",
    "    z_diff = np.linspace(z1, z2, interval+buffer+1)\n",
    "\n",
    "    count = 0\n",
    "\n",
    "    new_list_x = []\n",
    "    new_list_y = []\n",
    "    new_list_z = []\n",
    "\n",
    "    while count < interval+buffer+1:\n",
    "        x_new, y_new, z_new = norm(x_diff[count], y_diff[count], z_diff[count])\n",
    "\n",
    "        new_list_x.append(x_new)\n",
    "        new_list_y.append(y_new)\n",
    "        new_list_z.append(z_new)\n",
    "\n",
    "        count += 1\n",
    "\n",
    "    trimmed_x = new_list_x[half_buffer:-half_buffer]\n",
    "    trimmed_y = new_list_y[half_buffer:-half_buffer]\n",
    "    trimmed_z = new_list_z[half_buffer:-half_buffer]\n",
    "\n",
    "    count = 0\n",
    "\n",
    "    ra_list = []\n",
    "    dec_list = []\n",
    "\n",
    "    while count < len(trimmed_x):\n",
    "        ra, dec = xyz_to_radec(\n",
    "            trimmed_x[count], trimmed_y[count], trimmed_z[count])\n",
    "        ra_list.append(np.rad2deg(ra))\n",
    "        dec_list.append(np.rad2deg(dec))\n",
    "        count += 1\n",
    "\n",
    "    # print(ra_list)\n",
    "    # print(dec_list)\n",
    "\n",
    "    return ra_list, dec_list"
   ]
  },
  {
   "cell_type": "markdown",
   "metadata": {},
   "source": [
    "### Actual extraction\n",
    "---\n",
    "The processed CSV files for each constellation will be imported. In the subsequent cell, pairs of stars will be connected. This process involves setting a start star and utilizing the subsequent star as the end point. The right ascension and declination values for both stars will be extracted.\n",
    "\n",
    "Upon obtaining these values, they are transformed into x, y, z coordinates. Initially, the right ascension (RA) values are multiplied by 15, as the data is encoded in a 24-hour format, while the code operates with a 360-degree format. Once these processes are done for both stars in a pair, a line connection is formed by calculating the displacement from their x y z positions.\n",
    "\n",
    "The vector connecting the starting star and the ending star is evenly sampled. Another vector is generated from the origin to one of these sampled points and is subsequently normalized. This process ensures the projection of the sampling point onto the surface of the sphere. Performing this operation for all sampled points results in obtaining points along the geodesic connecting the two stars.\n",
    "\n",
    "After obtaining the points on the surface of the sphere, further processing involves converting them back to right ascension (RA) and declination (Dec). These recalculated values are then stored in their respective CSV files."
   ]
  },
  {
   "cell_type": "code",
   "execution_count": 38,
   "metadata": {},
   "outputs": [],
   "source": [
    "%%capture\n",
    "for constellation_file in hyg_constellation_dir.iterdir():\n",
    "    constellation_frame = pd.read_csv(constellation_file)\n",
    "\n",
    "    ra_list = []\n",
    "    dec_list = []\n",
    "\n",
    "    for index, row in constellation_frame.iterrows():\n",
    "        ra_list.append(row[\"ra\"])\n",
    "        dec_list.append(row[\"dec\"])\n",
    "\n",
    "    entry_list = []\n",
    "\n",
    "    twice_pairs = len(ra_list)\n",
    "    count = 0\n",
    "\n",
    "    while count < twice_pairs:\n",
    "\n",
    "        start_RA = float(ra_list[count])\n",
    "        end_RA = float(ra_list[count+1])\n",
    "\n",
    "        start_Dec = float(dec_list[count])\n",
    "        end_Dec = float(dec_list[count+1])\n",
    "\n",
    "        x1 = np.cos(np.radians(start_Dec)) * np.cos(np.radians(start_RA*15))\n",
    "        y1 = np.cos(np.radians(start_Dec)) * np.sin(np.radians(start_RA*15))\n",
    "        z1 = np.sin(np.radians(start_Dec))\n",
    "\n",
    "        x2 = np.cos(np.radians(end_Dec)) * np.cos(np.radians(end_RA*15))\n",
    "        y2 = np.cos(np.radians(end_Dec)) * np.sin(np.radians(end_RA*15))\n",
    "        z2 = np.sin(np.radians(end_Dec))\n",
    "\n",
    "        new_ra_list, new_dec_list = compute_connect(x1, y1, z1, x2, y2, z2)\n",
    "\n",
    "        new_entry = {'Connection': count/2, 'RA Points': str(\n",
    "            new_ra_list), \"Dec Points\": str(new_dec_list)}\n",
    "\n",
    "        entry_list.append(new_entry)\n",
    "\n",
    "        count += 2\n",
    "\n",
    "    columns = [\"Connection\", \"RA Points\", \"Dec Points\"]\n",
    "\n",
    "    connection_frame = pd.DataFrame(columns=columns)\n",
    "\n",
    "    for entry in entry_list:\n",
    "        connection_frame = pd.concat([connection_frame, pd.DataFrame(\n",
    "            [entry], columns=columns)], ignore_index=True)\n",
    "\n",
    "    output_path = constellation_connection_dir / \\\n",
    "        f\"{constellation_file.stem}.csv\"\n",
    "    connection_frame.to_csv(str(output_path), index=False)"
   ]
  },
  {
   "cell_type": "markdown",
   "metadata": {},
   "source": [
    "# Extra part of the notebook\n",
    "\n",
    "## Combining all the information\n",
    "\n",
    "Storing the connections for each constellation in separate files is not necessary. For instance, consider the constellation **Crux**, which comprises four stars and two connections. Take the following sequence as an example:\n",
    "\n",
    "$$1\\;2\\;3\\;4$$\n",
    "\n",
    "While these are not the actual star numbers used in the **Crux** constellation, this sequence illustrates that discontinuities are permissible. Star **1** is paired with **2**, and **3** is paired with **4**. The relative positions of stars **1** and **2** are perpendicular to stars **3** and **4**, resulting in a cross-like pattern when the lines are drawn.\n",
    "\n",
    "Thus it is possible to combine two different constellations even if they are discontinuous.\n",
    "\n",
    "The following cell will do that."
   ]
  },
  {
   "cell_type": "code",
   "execution_count": 39,
   "metadata": {},
   "outputs": [],
   "source": [
    "ra_list = []\n",
    "dec_list = []\n",
    "\n",
    "for constellation_file in hyg_constellation_dir.iterdir():\n",
    "    constellation_frame = pd.read_csv(constellation_file)\n",
    "\n",
    "    for index, row in constellation_frame.iterrows():\n",
    "        ra_list.append(row[\"ra\"])\n",
    "        dec_list.append(row[\"dec\"])"
   ]
  },
  {
   "cell_type": "code",
   "execution_count": 40,
   "metadata": {},
   "outputs": [
    {
     "name": "stderr",
     "output_type": "stream",
     "text": [
      "C:\\Users\\User\\AppData\\Local\\Temp\\ipykernel_5892\\2181729020.py:36: FutureWarning: The behavior of DataFrame concatenation with empty or all-NA entries is deprecated. In a future version, this will no longer exclude empty or all-NA columns when determining the result dtypes. To retain the old behavior, exclude the relevant entries before the concat operation.\n",
      "  connection_frame = pd.concat([connection_frame, pd.DataFrame(\n"
     ]
    }
   ],
   "source": [
    "entry_list = []\n",
    "\n",
    "twice_pairs = len(ra_list)\n",
    "count = 0\n",
    "\n",
    "while count < twice_pairs:\n",
    "\n",
    "    start_RA = float(ra_list[count])\n",
    "    end_RA = float(ra_list[count+1])\n",
    "\n",
    "    start_Dec = float(dec_list[count])\n",
    "    end_Dec = float(dec_list[count+1])\n",
    "\n",
    "    x1 = np.cos(np.radians(start_Dec)) * np.cos(np.radians(start_RA*15))\n",
    "    y1 = np.cos(np.radians(start_Dec)) * np.sin(np.radians(start_RA*15))\n",
    "    z1 = np.sin(np.radians(start_Dec))\n",
    "\n",
    "    x2 = np.cos(np.radians(end_Dec)) * np.cos(np.radians(end_RA*15))\n",
    "    y2 = np.cos(np.radians(end_Dec)) * np.sin(np.radians(end_RA*15))\n",
    "    z2 = np.sin(np.radians(end_Dec))\n",
    "\n",
    "    new_ra_list, new_dec_list = compute_connect(x1, y1, z1, x2, y2, z2)\n",
    "\n",
    "    new_entry = {'Connection': count/2, 'RA Points': str(\n",
    "        new_ra_list), \"Dec Points\": str(new_dec_list)}\n",
    "\n",
    "    entry_list.append(new_entry)\n",
    "\n",
    "    count += 2\n",
    "\n",
    "columns = [\"Connection\", \"RA Points\", \"Dec Points\"]\n",
    "\n",
    "connection_frame = pd.DataFrame(columns=columns)\n",
    "\n",
    "for entry in entry_list:\n",
    "    connection_frame = pd.concat([connection_frame, pd.DataFrame(\n",
    "        [entry], columns=columns)], ignore_index=True)\n",
    "\n",
    "output_path = data_process_dir / f\"Singular.csv\"\n",
    "connection_frame.to_csv(str(output_path), index=False)"
   ]
  },
  {
   "cell_type": "markdown",
   "metadata": {},
   "source": [
    "## Extracting positions of the unique stars\n",
    "\n",
    "The following cells will extract the position of the unique stars. The purpose of this information will be detailed in the `map_create.ipynb` notebook"
   ]
  },
  {
   "cell_type": "code",
   "execution_count": 41,
   "metadata": {},
   "outputs": [
    {
     "name": "stdout",
     "output_type": "stream",
     "text": [
      "Tuples generated: 1346\n",
      "Unique tuples: 691\n"
     ]
    }
   ],
   "source": [
    "star_tuple_list = []\n",
    "\n",
    "count = 0\n",
    "\n",
    "while count < len(ra_list):\n",
    "\n",
    "    star_tuple = (ra_list[count]*15, dec_list[count])\n",
    "    star_tuple_list.append(star_tuple)\n",
    "\n",
    "    count += 1\n",
    "\n",
    "print(f\"Tuples generated: {len(star_tuple_list)}\")\n",
    "star_tuple_set = set(star_tuple_list)\n",
    "print(f\"Unique tuples: {len(star_tuple_set)}\")"
   ]
  },
  {
   "cell_type": "code",
   "execution_count": 42,
   "metadata": {},
   "outputs": [],
   "source": [
    "entry_list = []\n",
    "\n",
    "for star_tuple in star_tuple_set:\n",
    "\n",
    "    RA_entry = star_tuple[0]\n",
    "    Dec_entry = star_tuple[1]\n",
    "\n",
    "    new_entry = {'RA': RA_entry, \"Dec\": Dec_entry}\n",
    "    entry_list.append(new_entry)"
   ]
  },
  {
   "cell_type": "markdown",
   "metadata": {},
   "source": [
    "The positions of the unique stars are stored in the `Constellation_Star_Position_List.csv` file"
   ]
  },
  {
   "cell_type": "code",
   "execution_count": 43,
   "metadata": {},
   "outputs": [],
   "source": [
    "%%capture\n",
    "columns = [\"RA\", \"Dec\"]\n",
    "new_frame = pd.DataFrame(columns=columns)\n",
    "\n",
    "for entry in entry_list:\n",
    "    new_frame = pd.concat([new_frame, pd.DataFrame(\n",
    "        [entry], columns=columns)], ignore_index=True)\n",
    "\n",
    "output_path = data_process_dir / \"Constellation_Star_Position_List.csv\"\n",
    "new_frame.to_csv(str(output_path), index=False)"
   ]
  }
 ],
 "metadata": {
  "kernelspec": {
   "display_name": ".venv",
   "language": "python",
   "name": "python3"
  },
  "language_info": {
   "codemirror_mode": {
    "name": "ipython",
    "version": 3
   },
   "file_extension": ".py",
   "mimetype": "text/x-python",
   "name": "python",
   "nbconvert_exporter": "python",
   "pygments_lexer": "ipython3",
   "version": "3.11.5"
  }
 },
 "nbformat": 4,
 "nbformat_minor": 2
}
